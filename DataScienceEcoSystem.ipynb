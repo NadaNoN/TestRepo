{
 "cells": [
  {
   "cell_type": "markdown",
   "id": "5360398a-4af1-40dc-a515-5aa7dae7f89f",
   "metadata": {},
   "source": [
    "# Data Science Tools and Ecosystem"
   ]
  },
  {
   "cell_type": "markdown",
   "id": "34883517-312e-4996-a0a9-55140bc67efb",
   "metadata": {},
   "source": [
    "In this notebook, Data Science Tools and Ecosystem are summarized"
   ]
  },
  {
   "cell_type": "markdown",
   "id": "3ed05524-4d20-454e-ae48-187e4061e919",
   "metadata": {},
   "source": [
    "Some of the popular languages that Data Scientists use are:\r\n",
    "\n",
    "1. ## R\n",
    "2. ## Python\n",
    "3. ## C++"
   ]
  },
  {
   "cell_type": "markdown",
   "id": "b15dfa14-54a2-421e-b195-017ee3517e76",
   "metadata": {},
   "source": [
    "Some of the commonly used libraries used by Data Scientists include:\r",
    "1. GGplot\n",
    "2. GGally\n",
    "3. datasets\n"
   ]
  },
  {
   "cell_type": "markdown",
   "id": "43b1dd04-88de-4412-8592-486dd6f74932",
   "metadata": {},
   "source": [
    "|Data Science Tools|\n",
    "|------------------|\n",
    "|       SQL        | \n",
    "|     Jupyter      |\n",
    "|      RStudio     |"
   ]
  },
  {
   "cell_type": "markdown",
   "id": "abb307e0-056d-4b2b-92c2-8a3f317f8ea1",
   "metadata": {},
   "source": [
    "### Below are a few examples of evaluating arithmetic expressions in Python.\n"
   ]
  },
  {
   "cell_type": "code",
   "execution_count": 32,
   "id": "b1789134-03e3-436a-999a-4847abfa10a7",
   "metadata": {},
   "outputs": [
    {
     "name": "stdout",
     "output_type": "stream",
     "text": [
      "17\n"
     ]
    }
   ],
   "source": [
    "X = (3*4)+5\n",
    "print(X)"
   ]
  },
  {
   "cell_type": "code",
   "execution_count": 36,
   "id": "2fb61d6c-648f-43f3-8bf5-3f6cf9e34592",
   "metadata": {},
   "outputs": [
    {
     "name": "stdout",
     "output_type": "stream",
     "text": [
      "3.3333333333333335\n"
     ]
    }
   ],
   "source": [
    "#This will convert 200 minutes to hours by diving by 60\n",
    "x = (200/60)\n",
    "print(x)"
   ]
  },
  {
   "cell_type": "markdown",
   "id": "c5bb5313-2535-4dac-9339-2f24ac6f5f6e",
   "metadata": {},
   "source": [
    "**Objectives:**\n",
    "- Listing Data Science Languages\n",
    "- Listing Data Science Libraries\n",
    "- Listing Data Science Tools\n",
    "- Execute simple arithmetic expression\n",
    "- Produce a header"
   ]
  },
  {
   "cell_type": "markdown",
   "id": "f36d1bcd-3421-4965-90f2-21a79742170f",
   "metadata": {},
   "source": [
    "## Author\n",
    "Stig Alexander Roos Henriksson"
   ]
  },
  {
   "cell_type": "code",
   "execution_count": null,
   "id": "597f2221-d15d-4d7c-b7ad-14b7cf4c058b",
   "metadata": {},
   "outputs": [],
   "source": []
  }
 ],
 "metadata": {
  "kernelspec": {
   "display_name": "Python 3 (ipykernel)",
   "language": "python",
   "name": "python3"
  },
  "language_info": {
   "codemirror_mode": {
    "name": "ipython",
    "version": 3
   },
   "file_extension": ".py",
   "mimetype": "text/x-python",
   "name": "python",
   "nbconvert_exporter": "python",
   "pygments_lexer": "ipython3",
   "version": "3.11.7"
  }
 },
 "nbformat": 4,
 "nbformat_minor": 5
}
